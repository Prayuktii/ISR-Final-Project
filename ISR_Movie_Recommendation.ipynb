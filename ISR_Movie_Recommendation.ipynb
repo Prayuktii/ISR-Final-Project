{
 "cells": [
  {
   "cell_type": "code",
   "execution_count": 1,
   "metadata": {
    "colab": {
     "base_uri": "https://localhost:8080/"
    },
    "id": "enLeE4B8j-K_",
    "outputId": "460215a4-0665-4831-b888-a41121948de6"
   },
   "outputs": [
    {
     "name": "stdout",
     "output_type": "stream",
     "text": [
      "Requirement already satisfied: scikit-network in c:\\users\\dahal\\appdata\\roaming\\python\\python311\\site-packages (0.31.0)\n",
      "Requirement already satisfied: numpy>=1.22.4 in c:\\users\\dahal\\anaconda3\\lib\\site-packages (from scikit-network) (1.24.3)\n",
      "Requirement already satisfied: scipy>=1.7.3 in c:\\users\\dahal\\anaconda3\\lib\\site-packages (from scikit-network) (1.10.1)\n",
      "Requirement already satisfied: scikit-network in c:\\users\\dahal\\appdata\\roaming\\python\\python311\\site-packages (0.31.0)\n",
      "Requirement already satisfied: numpy>=1.22.4 in c:\\users\\dahal\\anaconda3\\lib\\site-packages (from scikit-network) (1.24.3)\n",
      "Requirement already satisfied: scipy>=1.7.3 in c:\\users\\dahal\\anaconda3\\lib\\site-packages (from scikit-network) (1.10.1)\n"
     ]
    }
   ],
   "source": [
    "# Installing and upgrading the scikit-network package\n",
    "!pip install --user scikit-network\n",
    "!pip install --user --upgrade scikit-network\n",
    "\n",
    "# Importing the necessary libraries for the project\n",
    "from sknetwork.ranking import PageRank\n",
    "from scipy import stats\n",
    "\n",
    "import sknetwork.topology as topology_module\n",
    "import inspect\n",
    "import numpy as np\n",
    "import pandas as pd\n",
    "import copy\n",
    "import networkx as nx\n",
    "import matplotlib.pyplot as plt\n",
    "import seaborn as sns\n"
   ]
  },
  {
   "cell_type": "code",
   "execution_count": 2,
   "metadata": {
    "id": "3_xYi51skGZ0"
   },
   "outputs": [
    {
     "name": "stdout",
     "output_type": "stream",
     "text": [
      "Requirement already satisfied: gdown in c:\\users\\dahal\\anaconda3\\lib\\site-packages (4.7.1)\n",
      "Requirement already satisfied: filelock in c:\\users\\dahal\\anaconda3\\lib\\site-packages (from gdown) (3.9.0)\n",
      "Requirement already satisfied: requests[socks] in c:\\users\\dahal\\anaconda3\\lib\\site-packages (from gdown) (2.31.0)\n",
      "Requirement already satisfied: six in c:\\users\\dahal\\anaconda3\\lib\\site-packages (from gdown) (1.16.0)\n",
      "Requirement already satisfied: tqdm in c:\\users\\dahal\\anaconda3\\lib\\site-packages (from gdown) (4.65.0)\n",
      "Requirement already satisfied: beautifulsoup4 in c:\\users\\dahal\\anaconda3\\lib\\site-packages (from gdown) (4.12.2)\n",
      "Requirement already satisfied: soupsieve>1.2 in c:\\users\\dahal\\anaconda3\\lib\\site-packages (from beautifulsoup4->gdown) (2.4)\n",
      "Requirement already satisfied: charset-normalizer<4,>=2 in c:\\users\\dahal\\anaconda3\\lib\\site-packages (from requests[socks]->gdown) (2.0.4)\n",
      "Requirement already satisfied: idna<4,>=2.5 in c:\\users\\dahal\\anaconda3\\lib\\site-packages (from requests[socks]->gdown) (3.4)\n",
      "Requirement already satisfied: urllib3<3,>=1.21.1 in c:\\users\\dahal\\anaconda3\\lib\\site-packages (from requests[socks]->gdown) (1.26.16)\n",
      "Requirement already satisfied: certifi>=2017.4.17 in c:\\users\\dahal\\anaconda3\\lib\\site-packages (from requests[socks]->gdown) (2023.7.22)\n",
      "Requirement already satisfied: PySocks!=1.5.7,>=1.5.6 in c:\\users\\dahal\\anaconda3\\lib\\site-packages (from requests[socks]->gdown) (1.7.1)\n",
      "Requirement already satisfied: colorama in c:\\users\\dahal\\anaconda3\\lib\\site-packages (from tqdm->gdown) (0.4.6)\n"
     ]
    }
   ],
   "source": [
    "!pip install --upgrade --no-cache-dir gdown"
   ]
  },
  {
   "cell_type": "code",
   "execution_count": 3,
   "metadata": {
    "id": "kqh_ANVmkQeu"
   },
   "outputs": [
    {
     "name": "stderr",
     "output_type": "stream",
     "text": [
      "C:\\Users\\dahal\\anaconda3\\Lib\\site-packages\\gdown\\cli.py:126: FutureWarning: Option `--id` was deprecated in version 4.3.1 and will be removed in 5.0. You don't need to pass it anymore to use a file ID.\n",
      "  warnings.warn(\n",
      "Downloading...\n",
      "From: https://drive.google.com/uc?id=1Xu8EeWQZFkPe-1EvqMpkkMMg09Mgy07_\n",
      "To: C:\\Users\\dahal\\Comedy_IMDB.csv\n",
      "\n",
      "  0%|          | 0.00/1.77M [00:00<?, ?B/s]\n",
      " 30%|##9       | 524k/1.77M [00:00<00:00, 3.79MB/s]\n",
      "100%|##########| 1.77M/1.77M [00:00<00:00, 8.50MB/s]\n"
     ]
    }
   ],
   "source": [
    "# Downloading the Comedy_IMDB dataset from Google Drive\n",
    "!gdown --id 1Xu8EeWQZFkPe-1EvqMpkkMMg09Mgy07_"
   ]
  },
  {
   "cell_type": "code",
   "execution_count": 4,
   "metadata": {
    "colab": {
     "base_uri": "https://localhost:8080/"
    },
    "id": "h9rfD8DelSrf",
    "outputId": "1a0982ea-b495-4e17-bf95-9b8e08146be0"
   },
   "outputs": [
    {
     "name": "stdout",
     "output_type": "stream",
     "text": [
      "  IMDB Movie dataset Field names\n",
      "0                             SN\n",
      "1                          Movie\n",
      "2                          Genre\n",
      "3                        Runtime\n",
      "4                    Certificate\n",
      "5                         Rating\n",
      "6                           Cast\n",
      "7                    Description\n",
      "8                          Votes\n",
      "9                       Director\n",
      "\n",
      "The number of row of the dataset are:  5294\n",
      "\n",
      "First row:\n",
      "SN                                                             1\n",
      "Movie                                         They Cloned Tyrone\n",
      "Genre                        Action, Comedy, Mystery            \n",
      "Runtime                                                  122 min\n",
      "Certificate                                                    R\n",
      "Rating                                                       6.7\n",
      "Cast           ['John Boyega, ', 'Jamie Foxx, ', 'Teyonah Par...\n",
      "Description    A series of eerie events thrusts an unlikely t...\n",
      "Votes                                                     14,271\n",
      "Director                                    ['Steven Caple Jr.']\n",
      "Name: 0, dtype: object\n",
      "\n",
      "Last row:\n",
      "SN                                                           100\n",
      "Movie                                         The Last Boy Scout\n",
      "Genre                          Action, Comedy, Crime            \n",
      "Runtime                                                  105 min\n",
      "Certificate                                                    A\n",
      "Rating                                                       7.0\n",
      "Cast           ['Colin Farrell, ', 'Bokeem Woodbine, ', 'Brya...\n",
      "Description    A private detective's protected female witness...\n",
      "Votes                                                    $59.51M\n",
      "Director                                   ['Niels Arden Oplev']\n",
      "Name: 99, dtype: object\n"
     ]
    }
   ],
   "source": [
    "#Loading the IMDB movies dataset from the 'Comedy_IMDB.csv' file to a Pandas dataframe\n",
    "IMDB_movies_graph = pd.read_csv('Comedy_IMDB.csv')\n",
    "\n",
    "# Extracting the field names from the dataset and displaying them in a nice format\n",
    "dataset_field = list(IMDB_movies_graph.columns)\n",
    "nice_print = pd.DataFrame( dataset_field )\n",
    "nice_print.rename(columns = {0: 'IMDB Movie dataset Field names'}, inplace = True)\n",
    "print(nice_print)\n",
    "print()\n",
    "\n",
    "# Displaying the number of rows in the dataset\n",
    "print(\"The number of row of the dataset are: \", IMDB_movies_graph.shape[0])\n",
    "print()\n",
    "\n",
    "# Considering only first 100 rows of the dataset for analysis\n",
    "IMDB_movies_graph = IMDB_movies_graph.head(100)\n",
    "\n",
    "# Displaying the first row conetnts from reduced dataset\n",
    "print(f\"First row:\\n{IMDB_movies_graph.iloc[0]}\")\n",
    "print()\n",
    "\n",
    "# Displaying the last row conetnts from reduced dataset\n",
    "print(f\"Last row:\\n{IMDB_movies_graph.iloc[-1]}\")"
   ]
  },
  {
   "cell_type": "code",
   "execution_count": 5,
   "metadata": {
    "colab": {
     "base_uri": "https://localhost:8080/"
    },
    "id": "dEEQ7m4SlWTW",
    "outputId": "4ac42dd9-3386-4187-bbd9-911b6c2c9127"
   },
   "outputs": [
    {
     "name": "stdout",
     "output_type": "stream",
     "text": [
      "Index(['SN', 'Movie', 'Genre', 'Runtime', 'Certificate', 'Rating', 'Cast',\n",
      "       'Description', 'Votes', 'Director'],\n",
      "      dtype='object')\n"
     ]
    }
   ],
   "source": [
    "print(IMDB_movies_graph.columns)"
   ]
  },
  {
   "cell_type": "code",
   "execution_count": 6,
   "metadata": {
    "id": "7kMh4_gilZky"
   },
   "outputs": [
    {
     "data": {
      "text/html": [
       "<div>\n",
       "<style scoped>\n",
       "    .dataframe tbody tr th:only-of-type {\n",
       "        vertical-align: middle;\n",
       "    }\n",
       "\n",
       "    .dataframe tbody tr th {\n",
       "        vertical-align: top;\n",
       "    }\n",
       "\n",
       "    .dataframe thead th {\n",
       "        text-align: right;\n",
       "    }\n",
       "</style>\n",
       "<table border=\"1\" class=\"dataframe\">\n",
       "  <thead>\n",
       "    <tr style=\"text-align: right;\">\n",
       "      <th></th>\n",
       "      <th>IMDB Movie dataset Field names</th>\n",
       "    </tr>\n",
       "  </thead>\n",
       "  <tbody>\n",
       "    <tr>\n",
       "      <th>0</th>\n",
       "      <td>SN</td>\n",
       "    </tr>\n",
       "    <tr>\n",
       "      <th>1</th>\n",
       "      <td>Movie</td>\n",
       "    </tr>\n",
       "    <tr>\n",
       "      <th>2</th>\n",
       "      <td>Genre</td>\n",
       "    </tr>\n",
       "    <tr>\n",
       "      <th>3</th>\n",
       "      <td>Runtime</td>\n",
       "    </tr>\n",
       "    <tr>\n",
       "      <th>4</th>\n",
       "      <td>Certificate</td>\n",
       "    </tr>\n",
       "    <tr>\n",
       "      <th>5</th>\n",
       "      <td>Rating</td>\n",
       "    </tr>\n",
       "    <tr>\n",
       "      <th>6</th>\n",
       "      <td>Cast</td>\n",
       "    </tr>\n",
       "    <tr>\n",
       "      <th>7</th>\n",
       "      <td>Description</td>\n",
       "    </tr>\n",
       "    <tr>\n",
       "      <th>8</th>\n",
       "      <td>Votes</td>\n",
       "    </tr>\n",
       "    <tr>\n",
       "      <th>9</th>\n",
       "      <td>Director</td>\n",
       "    </tr>\n",
       "  </tbody>\n",
       "</table>\n",
       "</div>"
      ],
      "text/plain": [
       "  IMDB Movie dataset Field names\n",
       "0                             SN\n",
       "1                          Movie\n",
       "2                          Genre\n",
       "3                        Runtime\n",
       "4                    Certificate\n",
       "5                         Rating\n",
       "6                           Cast\n",
       "7                    Description\n",
       "8                          Votes\n",
       "9                       Director"
      ]
     },
     "execution_count": 6,
     "metadata": {},
     "output_type": "execute_result"
    }
   ],
   "source": [
    "nice_print"
   ]
  },
  {
   "cell_type": "code",
   "execution_count": 7,
   "metadata": {
    "colab": {
     "base_uri": "https://localhost:8080/"
    },
    "id": "WeKxWD-2Y0Ll",
    "outputId": "3ceb7d21-09c3-4ac0-b539-6192757b2cfc"
   },
   "outputs": [
    {
     "data": {
      "text/plain": [
       "(     SN               Movie                                Genre  Runtime  \\\n",
       " 0     1  They Cloned Tyrone  Action, Comedy, Mystery              122 min   \n",
       " 0     1  They Cloned Tyrone  Action, Comedy, Mystery              122 min   \n",
       " 0     1  They Cloned Tyrone  Action, Comedy, Mystery              122 min   \n",
       " 0     1  They Cloned Tyrone  Action, Comedy, Mystery              122 min   \n",
       " 0     1  They Cloned Tyrone  Action, Comedy, Mystery              122 min   \n",
       " ..  ...                 ...                                  ...      ...   \n",
       " 99  100  The Last Boy Scout    Action, Comedy, Crime              105 min   \n",
       " 99  100  The Last Boy Scout    Action, Comedy, Crime              105 min   \n",
       " 99  100  The Last Boy Scout    Action, Comedy, Crime              105 min   \n",
       " 99  100  The Last Boy Scout    Action, Comedy, Crime              105 min   \n",
       " 99  100  The Last Boy Scout    Action, Comedy, Crime              105 min   \n",
       " \n",
       "    Certificate  Rating             Cast  \\\n",
       " 0            R     6.7      John Boyega   \n",
       " 0            R     6.7      John Boyega   \n",
       " 0            R     6.7       Jamie Foxx   \n",
       " 0            R     6.7       Jamie Foxx   \n",
       " 0            R     6.7   Teyonah Parris   \n",
       " ..         ...     ...              ...   \n",
       " 99           A     7.0   Bryan Cranston   \n",
       " 99           A     7.0  Kate Beckinsale   \n",
       " 99           A     7.0  Kate Beckinsale   \n",
       " 99           A     7.0                    \n",
       " 99           A     7.0                    \n",
       " \n",
       "                                           Description    Votes  \\\n",
       " 0   A series of eerie events thrusts an unlikely t...   14,271   \n",
       " 0   A series of eerie events thrusts an unlikely t...   14,271   \n",
       " 0   A series of eerie events thrusts an unlikely t...   14,271   \n",
       " 0   A series of eerie events thrusts an unlikely t...   14,271   \n",
       " 0   A series of eerie events thrusts an unlikely t...   14,271   \n",
       " ..                                                ...      ...   \n",
       " 99  A private detective's protected female witness...  $59.51M   \n",
       " 99  A private detective's protected female witness...  $59.51M   \n",
       " 99  A private detective's protected female witness...  $59.51M   \n",
       " 99  A private detective's protected female witness...  $59.51M   \n",
       " 99  A private detective's protected female witness...  $59.51M   \n",
       " \n",
       "              Director             Person  \n",
       " 0    Steven Caple Jr.   Steven Caple Jr.  \n",
       " 0    Steven Caple Jr.        John Boyega  \n",
       " 0    Steven Caple Jr.   Steven Caple Jr.  \n",
       " 0    Steven Caple Jr.         Jamie Foxx  \n",
       " 0    Steven Caple Jr.   Steven Caple Jr.  \n",
       " ..                ...                ...  \n",
       " 99  Niels Arden Oplev     Bryan Cranston  \n",
       " 99  Niels Arden Oplev  Niels Arden Oplev  \n",
       " 99  Niels Arden Oplev    Kate Beckinsale  \n",
       " 99  Niels Arden Oplev  Niels Arden Oplev  \n",
       " 99  Niels Arden Oplev                     \n",
       " \n",
       " [1000 rows x 11 columns],\n",
       " dtype('O'))"
      ]
     },
     "execution_count": 7,
     "metadata": {},
     "output_type": "execute_result"
    }
   ],
   "source": [
    "# Creating a deep copy of the IMDB_movies_graph DataFrame and storing it in 'ddf'\n",
    "ddf = copy.deepcopy(IMDB_movies_graph)\n",
    "\n",
    "# Removing commas and spaces from string-type columns in 'ddf'\n",
    "ddf = ddf.apply(lambda x: x.replace(',', '').replace(' ', '') if x.dtype == 'O' else x)\n",
    "\n",
    "# Converting 'Genre', 'Cast', and 'Director' columns to appropriate data structures\n",
    "# Splitting the 'Cast' column by commas and cleaning up the names\n",
    "\n",
    "ddf['Cast'] = ddf['Cast'].apply(lambda x: [name.strip(', ') for name in eval(x)])\n",
    "\n",
    "# Exploding the 'Cast' column to separate individual cast members into rows\n",
    "ddf = ddf.explode('Cast')\n",
    "\n",
    "# Cleaning up the 'Director' column, removing empty strings and joining director names\n",
    "ddf['Director'] = ddf['Director'].apply(lambda x: \" \".join([director for director in eval(x) if x != \"\"]).strip(\", \"))\n",
    "\n",
    "# Creating a new column 'Person' combining 'Director' and 'Cast' for each row\n",
    "ddf['Person'] = ddf.apply(lambda row: [row['Director'], row['Cast']], axis=1)\n",
    "\n",
    "# Exploding the 'Person' column to separate individuals into rows\n",
    "ddf = ddf.explode('Person')\n",
    "\n",
    "# Setting 'Genre' as the index for 'ddf' and retrieving its data type\n",
    "index_name = 'Genre'\n",
    "dtype_of_index = ddf[index_name].dtype\n",
    "\n",
    "# Displaying the updated DataFrame 'ddf' and the data type of the 'Genre' index\n",
    "ddf,dtype_of_index"
   ]
  },
  {
   "cell_type": "code",
   "execution_count": 8,
   "metadata": {
    "colab": {
     "base_uri": "https://localhost:8080/"
    },
    "id": "wmpXOn8de6N2",
    "outputId": "899a07cb-49eb-43bd-a01d-1a0951ab1e6a"
   },
   "outputs": [
    {
     "name": "stdout",
     "output_type": "stream",
     "text": [
      "Unique Movies: 99\n",
      "Unique Director: 100\n",
      "Unique Rating: 36\n"
     ]
    }
   ],
   "source": [
    "# Extracting unique values for specific columns in the DataFrame 'ddf'\n",
    "# unique_genres = ddf['Genre'].explode().unique()\n",
    "unique_movies = ddf['Movie'].unique()\n",
    "unique_director = ddf['Director'].unique()\n",
    "unique_rating = ddf['Rating'].unique()\n",
    "\n",
    "# Displaying the count of unique values for different columns\n",
    "print(f'Unique Movies: {len(unique_movies)}')\n",
    "print(f'Unique Director: {len(unique_director)}')\n",
    "print(f'Unique Rating: {len(unique_rating)}')"
   ]
  },
  {
   "cell_type": "code",
   "execution_count": 9,
   "metadata": {
    "colab": {
     "base_uri": "https://localhost:8080/",
     "height": 884
    },
    "id": "hLQoVOovv2XU",
    "outputId": "2bc3a213-74ab-4ea8-975e-44c99714939d"
   },
   "outputs": [
    {
     "name": "stdout",
     "output_type": "stream",
     "text": [
      "Movie Ratings:\n"
     ]
    },
    {
     "data": {
      "text/html": [
       "<div>\n",
       "<style scoped>\n",
       "    .dataframe tbody tr th:only-of-type {\n",
       "        vertical-align: middle;\n",
       "    }\n",
       "\n",
       "    .dataframe tbody tr th {\n",
       "        vertical-align: top;\n",
       "    }\n",
       "\n",
       "    .dataframe thead th {\n",
       "        text-align: right;\n",
       "    }\n",
       "</style>\n",
       "<table border=\"1\" class=\"dataframe\">\n",
       "  <thead>\n",
       "    <tr style=\"text-align: right;\">\n",
       "      <th></th>\n",
       "      <th>Movie</th>\n",
       "      <th>Rating</th>\n",
       "    </tr>\n",
       "  </thead>\n",
       "  <tbody>\n",
       "    <tr>\n",
       "      <th>589</th>\n",
       "      <td>One Punch Man: Wanpanman</td>\n",
       "      <td>8.7</td>\n",
       "    </tr>\n",
       "    <tr>\n",
       "      <th>11</th>\n",
       "      <td>The Boys</td>\n",
       "      <td>8.7</td>\n",
       "    </tr>\n",
       "    <tr>\n",
       "      <th>19</th>\n",
       "      <td>The Boys</td>\n",
       "      <td>8.7</td>\n",
       "    </tr>\n",
       "    <tr>\n",
       "      <th>18</th>\n",
       "      <td>The Boys</td>\n",
       "      <td>8.7</td>\n",
       "    </tr>\n",
       "    <tr>\n",
       "      <th>17</th>\n",
       "      <td>The Boys</td>\n",
       "      <td>8.7</td>\n",
       "    </tr>\n",
       "    <tr>\n",
       "      <th>...</th>\n",
       "      <td>...</td>\n",
       "      <td>...</td>\n",
       "    </tr>\n",
       "    <tr>\n",
       "      <th>573</th>\n",
       "      <td>Peter Pan &amp; Wendy</td>\n",
       "      <td>4.4</td>\n",
       "    </tr>\n",
       "    <tr>\n",
       "      <th>572</th>\n",
       "      <td>Peter Pan &amp; Wendy</td>\n",
       "      <td>4.4</td>\n",
       "    </tr>\n",
       "    <tr>\n",
       "      <th>571</th>\n",
       "      <td>Peter Pan &amp; Wendy</td>\n",
       "      <td>4.4</td>\n",
       "    </tr>\n",
       "    <tr>\n",
       "      <th>570</th>\n",
       "      <td>Peter Pan &amp; Wendy</td>\n",
       "      <td>4.4</td>\n",
       "    </tr>\n",
       "    <tr>\n",
       "      <th>579</th>\n",
       "      <td>Peter Pan &amp; Wendy</td>\n",
       "      <td>4.4</td>\n",
       "    </tr>\n",
       "  </tbody>\n",
       "</table>\n",
       "<p>1000 rows × 2 columns</p>\n",
       "</div>"
      ],
      "text/plain": [
       "                        Movie  Rating\n",
       "589  One Punch Man: Wanpanman     8.7\n",
       "11                   The Boys     8.7\n",
       "19                   The Boys     8.7\n",
       "18                   The Boys     8.7\n",
       "17                   The Boys     8.7\n",
       "..                        ...     ...\n",
       "573         Peter Pan & Wendy     4.4\n",
       "572         Peter Pan & Wendy     4.4\n",
       "571         Peter Pan & Wendy     4.4\n",
       "570         Peter Pan & Wendy     4.4\n",
       "579         Peter Pan & Wendy     4.4\n",
       "\n",
       "[1000 rows x 2 columns]"
      ]
     },
     "metadata": {},
     "output_type": "display_data"
    },
    {
     "name": "stdout",
     "output_type": "stream",
     "text": [
      "\n",
      "PageRank Scores for Movies:\n"
     ]
    },
    {
     "data": {
      "text/html": [
       "<div>\n",
       "<style scoped>\n",
       "    .dataframe tbody tr th:only-of-type {\n",
       "        vertical-align: middle;\n",
       "    }\n",
       "\n",
       "    .dataframe tbody tr th {\n",
       "        vertical-align: top;\n",
       "    }\n",
       "\n",
       "    .dataframe thead th {\n",
       "        text-align: right;\n",
       "    }\n",
       "</style>\n",
       "<table border=\"1\" class=\"dataframe\">\n",
       "  <thead>\n",
       "    <tr style=\"text-align: right;\">\n",
       "      <th></th>\n",
       "      <th>Movie</th>\n",
       "      <th>Score</th>\n",
       "    </tr>\n",
       "  </thead>\n",
       "  <tbody>\n",
       "    <tr>\n",
       "      <th>0</th>\n",
       "      <td>Teenage Mutant Ninja Turtles</td>\n",
       "      <td>0.008882</td>\n",
       "    </tr>\n",
       "    <tr>\n",
       "      <th>1</th>\n",
       "      <td>Archer</td>\n",
       "      <td>0.005509</td>\n",
       "    </tr>\n",
       "    <tr>\n",
       "      <th>2</th>\n",
       "      <td>Pixels</td>\n",
       "      <td>0.005427</td>\n",
       "    </tr>\n",
       "    <tr>\n",
       "      <th>3</th>\n",
       "      <td>Ready or Not</td>\n",
       "      <td>0.005316</td>\n",
       "    </tr>\n",
       "    <tr>\n",
       "      <th>4</th>\n",
       "      <td>Barry</td>\n",
       "      <td>0.005283</td>\n",
       "    </tr>\n",
       "    <tr>\n",
       "      <th>...</th>\n",
       "      <td>...</td>\n",
       "      <td>...</td>\n",
       "    </tr>\n",
       "    <tr>\n",
       "      <th>94</th>\n",
       "      <td>Deadpool 2</td>\n",
       "      <td>0.004306</td>\n",
       "    </tr>\n",
       "    <tr>\n",
       "      <th>95</th>\n",
       "      <td>Ant-Man</td>\n",
       "      <td>0.004262</td>\n",
       "    </tr>\n",
       "    <tr>\n",
       "      <th>96</th>\n",
       "      <td>Game Night</td>\n",
       "      <td>0.004242</td>\n",
       "    </tr>\n",
       "    <tr>\n",
       "      <th>97</th>\n",
       "      <td>Guardians of the Galaxy Vol. 2</td>\n",
       "      <td>0.004078</td>\n",
       "    </tr>\n",
       "    <tr>\n",
       "      <th>98</th>\n",
       "      <td>Guardians of the Galaxy</td>\n",
       "      <td>0.004006</td>\n",
       "    </tr>\n",
       "  </tbody>\n",
       "</table>\n",
       "<p>99 rows × 2 columns</p>\n",
       "</div>"
      ],
      "text/plain": [
       "                             Movie     Score\n",
       "0     Teenage Mutant Ninja Turtles  0.008882\n",
       "1                           Archer  0.005509\n",
       "2                           Pixels  0.005427\n",
       "3                     Ready or Not  0.005316\n",
       "4                            Barry  0.005283\n",
       "..                             ...       ...\n",
       "94                      Deadpool 2  0.004306\n",
       "95                         Ant-Man  0.004262\n",
       "96                      Game Night  0.004242\n",
       "97  Guardians of the Galaxy Vol. 2  0.004078\n",
       "98         Guardians of the Galaxy  0.004006\n",
       "\n",
       "[99 rows x 2 columns]"
      ]
     },
     "metadata": {},
     "output_type": "display_data"
    }
   ],
   "source": [
    "# Creating a deep copy of the DataFrame 'ddf' and store it in the variable 'df'\n",
    "df = copy.deepcopy(ddf)\n",
    "\n",
    "# Constructing a bipartite graph\n",
    "G = nx.Graph()\n",
    "\n",
    "# Adding nodes and edges to the graph\n",
    "for _, row in df.iterrows():\n",
    "    G.add_node(row['Movie'], bipartite=0)  # Movie nodes\n",
    "    G.add_node(row['Person'], bipartite=1)  # Director and cast nodes\n",
    "    G.add_node(row['Rating'], bipartite=1)  # Rating nodes\n",
    "    G.add_node(row['Genre'], bipartite=1)   # Genre nodes\n",
    "\n",
    "    G.add_edge(row['Movie'], row['Person'])\n",
    "    G.add_edge(row['Movie'], row['Rating'])\n",
    "    G.add_edge(row['Movie'], row['Genre'])\n",
    "\n",
    "# Adding ratings to the graph\n",
    "rating_data = {\n",
    "    'Movie': [],\n",
    "    'Rating': []\n",
    "}\n",
    "for _, row in df.iterrows():\n",
    "    rating_data['Movie'].append(row['Movie'])\n",
    "    rating_data['Rating'].append(row['Rating'])\n",
    "    G.nodes[row['Rating']]['bipartite'] = 1  # Set the bipartite attribute for rating nodes\n",
    "\n",
    "# Displaying ratings\n",
    "print(\"Movie Ratings:\")\n",
    "rating_df = pd.DataFrame(rating_data)\n",
    "rating_df = rating_df.sort_values(by='Rating', ascending=False)\n",
    "display(rating_df)\n",
    "\n",
    "# Calculating PageRank scores with the updated graph\n",
    "pagerank_scores = nx.pagerank(G)\n",
    "\n",
    "# Displaying PageRank scores\n",
    "print(\"\\nPageRank Scores for Movies:\")\n",
    "score_data = {\n",
    "    'Movie': [],\n",
    "    'Score': []\n",
    "}\n",
    "\n",
    "# Iterating through the pagerank_scores dictionary, sorting by score in descending order\n",
    "for node, score in sorted(pagerank_scores.items(), key=lambda x: x[1], reverse=True):\n",
    "    # Checking if the node is a movie (assuming 'bipartite' attribute distinguishes movie nodes)\n",
    "    if G.nodes[node]['bipartite'] == 0:\n",
    "        score_data['Movie'].append(node)\n",
    "        score_data['Score'].append(score)\n",
    "\n",
    "# Creating a DataFrame 'score_df' using the collected movie nodes and their scores\n",
    "score_df = pd.DataFrame(score_data)\n",
    "\n",
    "# Sorting the DataFrame by 'Score' column in descending order\n",
    "score_df = score_df.sort_values(by='Score', ascending=False)\n",
    "\n",
    "# Displaying the DataFrame showing movies and their respective scores\n",
    "display(score_df)\n"
   ]
  },
  {
   "cell_type": "code",
   "execution_count": 10,
   "metadata": {},
   "outputs": [
    {
     "name": "stdout",
     "output_type": "stream",
     "text": [
      "Correlation Analysis:\n",
      "Weight #1 Correlation: PearsonRResult(statistic=-0.055290954989041984, pvalue=0.08053268415686685)\n",
      "Weight #2 Correlation: PearsonRResult(statistic=0.4500615112520616, pvalue=4.964446732264861e-51)\n",
      "Weight #3 Correlation: PearsonRResult(statistic=0.8020815493785326, pvalue=1.1909886755115685e-225)\n",
      "Weight #4 Correlation: PearsonRResult(statistic=0.984086827599173, pvalue=0.0)\n",
      "Overlap Analysis:\n",
      "Weight #1 Overlap: 1\n",
      "Weight #2 Overlap: 1\n",
      "Weight #3 Overlap: 1\n",
      "Weight #4 Overlap: 1\n"
     ]
    }
   ],
   "source": [
    "# Merging two DataFrames 'score_df' and 'rating_df' based on the 'Movie' column\n",
    "merged_df = pd.merge(score_df, rating_df, on='Movie')\n",
    "\n",
    "# Taking sample weights\n",
    "weights = [\n",
    "    {'score': 0.1, 'rating': 0.9},   \n",
    "    {'score': 0.5, 'rating': 0.5},\n",
    "    {'score': 0.7, 'rating': 0.3},   \n",
    "    {'score': 0.9, 'rating': 0.1}\n",
    "]\n",
    "\n",
    "# Function to calculate combined score\n",
    "def calculate_score(subset_df, w):\n",
    "    subset_df['norm_score'] = (subset_df['Score'] - min(subset_df['Score'])) / (max(subset_df['Score']) - min(subset_df['Score'])) \n",
    "    subset_df['norm_rating'] = (subset_df['Rating'] - min(subset_df['Rating'])) / (max(subset_df['Rating']) - min(subset_df['Rating']))\n",
    "    \n",
    "    subset_df['combined'] = (w['score'] * subset_df['norm_score']) + (w['rating'] * subset_df['norm_rating']) \n",
    "    \n",
    "    return subset_df\n",
    "\n",
    "# Calculating combined score for each weighting  \n",
    "combined_dfs = []\n",
    "for w in weights:\n",
    "    temp_df = calculate_score(merged_df.copy(), w)\n",
    "    combined_dfs.append(temp_df)\n",
    "\n",
    "# Statistical correlation analysis\n",
    "print(\"Correlation Analysis:\")\n",
    "for i in range(len(combined_dfs)): \n",
    "    print(f\"Weight #{i+1} Correlation: {stats.pearsonr(combined_dfs[i]['norm_score'], combined_dfs[i]['combined'])}\")\n",
    "    \n",
    "# Top 10 overlap analysis  \n",
    "print(\"Overlap Analysis:\")\n",
    "for i in range(len(combined_dfs)):\n",
    "  print(f\"Weight #{i+1} Overlap: {len(set(combined_dfs[0].head(10)['Movie']).intersection(set(combined_dfs[i].head(10)['Movie'])))}\")"
   ]
  },
  {
   "cell_type": "code",
   "execution_count": 11,
   "metadata": {},
   "outputs": [
    {
     "name": "stdout",
     "output_type": "stream",
     "text": [
      "\n",
      "Saved correlation plot at correlation_plot.png\n",
      "\n",
      "\n",
      "Saved overlap plot at overlap_plot.png\n"
     ]
    },
    {
     "data": {
      "image/png": "[encoded data removed]",
      "text/plain": [
       "<Figure size 640x480 with 1 Axes>"
      ]
     },
     "metadata": {},
     "output_type": "display_data"
    },
    {
     "data": {
      "image/png": "[encoded data removed]",
      "text/plain": [
       "<Figure size 600x400 with 1 Axes>"
      ]
     },
     "metadata": {},
     "output_type": "display_data"
    }
   ],
   "source": [
    "# Taking sample correlation data from previous analysis outputs\n",
    "correlations = [-0.055, 0.45, 0.80, 0.98]\n",
    "weights = [0.1, 0.5, 0.7, 0.9]\n",
    "\n",
    "# Creating a bar chart\n",
    "fig, ax = plt.subplots()\n",
    "ax.bar(weights, correlations, color='skyblue')\n",
    "\n",
    "ax.set_xlabel(\"Weight for Scores\")\n",
    "ax.set_ylabel(\"Correlation\")\n",
    "ax.set_title(\"Combined Score Correlation by Weight\")\n",
    "\n",
    "# Annotating bars with values\n",
    "for i, v in enumerate(correlations):\n",
    "    ax.text(weights[i] - 0.15, v + 0.01, str(round(v, 2)), fontweight='bold')\n",
    "\n",
    "# Show grid lines on both axes\n",
    "ax.grid(True, linestyle='--', linewidth=0.5, color='gray')\n",
    "\n",
    "# To save the generated correlation plot as an image file named \"correlation_plot.png\"\n",
    "plt.savefig(\"correlation_plot.png\")\n",
    "print(\"\\nSaved correlation plot at correlation_plot.png\\n\")\n",
    "\n",
    "# Boxplot for overlap\n",
    "fig, ax = plt.subplots(figsize=(6, 4))  # Set figure size\n",
    "ax.boxplot([1, 1, 1, 1], boxprops=dict(color='lightgreen'), whiskerprops=dict(color='purple'), medianprops=dict(color='red'))  # Customize boxplot colors\n",
    "\n",
    "# Setting x-axis ticks and labels\n",
    "ax.set_xticks(range(1, len(weights) + 1))\n",
    "ax.set_xticklabels(weights)\n",
    "ax.set_xlabel(\"Weight for Scores\")\n",
    "ax.set_ylabel(\"Number of Overlapping Movies in Top 10\")\n",
    "ax.set_title(\"Overlap in Top Movie Recommendations by Weight\", fontsize=12)\n",
    "\n",
    "# Show grid lines on both axes\n",
    "ax.grid(True, linestyle='--', linewidth=0.5, color='gray')\n",
    "\n",
    "# Adjusting layout of the plot to improve spacing between subplots or elements\n",
    "plt.tight_layout()\n",
    "\n",
    "# To save the generated overlap plot as an image file named \"overlap_plot.png\"\n",
    "plt.savefig(\"overlap_plot.png\")\n",
    "print(\"\\nSaved overlap plot at overlap_plot.png\")\n"
   ]
  },
  {
   "cell_type": "code",
   "execution_count": 12,
   "metadata": {
    "colab": {
     "base_uri": "https://localhost:8080/",
     "height": 771
    },
    "id": "1jg8syaF83bH",
    "outputId": "9cc8670e-5d93-4115-946c-4a8b6cf95202"
   },
   "outputs": [
    {
     "name": "stdout",
     "output_type": "stream",
     "text": [
      "\n",
      "Recommended Movies:\n"
     ]
    },
    {
     "data": {
      "text/html": [
       "<div>\n",
       "<style scoped>\n",
       "    .dataframe tbody tr th:only-of-type {\n",
       "        vertical-align: middle;\n",
       "    }\n",
       "\n",
       "    .dataframe tbody tr th {\n",
       "        vertical-align: top;\n",
       "    }\n",
       "\n",
       "    .dataframe thead th {\n",
       "        text-align: right;\n",
       "    }\n",
       "</style>\n",
       "<table border=\"1\" class=\"dataframe\">\n",
       "  <thead>\n",
       "    <tr style=\"text-align: right;\">\n",
       "      <th></th>\n",
       "      <th>Movie</th>\n",
       "      <th>Combined_Score</th>\n",
       "    </tr>\n",
       "  </thead>\n",
       "  <tbody>\n",
       "    <tr>\n",
       "      <th>0</th>\n",
       "      <td>Teenage Mutant Ninja Turtles</td>\n",
       "      <td>0.860465</td>\n",
       "    </tr>\n",
       "    <tr>\n",
       "      <th>25</th>\n",
       "      <td>Archer</td>\n",
       "      <td>0.508785</td>\n",
       "    </tr>\n",
       "    <tr>\n",
       "      <th>57</th>\n",
       "      <td>Barry</td>\n",
       "      <td>0.462410</td>\n",
       "    </tr>\n",
       "    <tr>\n",
       "      <th>79</th>\n",
       "      <td>Cobra Kai</td>\n",
       "      <td>0.452517</td>\n",
       "    </tr>\n",
       "    <tr>\n",
       "      <th>149</th>\n",
       "      <td>The Boys</td>\n",
       "      <td>0.448990</td>\n",
       "    </tr>\n",
       "    <tr>\n",
       "      <th>...</th>\n",
       "      <td>...</td>\n",
       "      <td>...</td>\n",
       "    </tr>\n",
       "    <tr>\n",
       "      <th>920</th>\n",
       "      <td>Thor: Love and Thunder</td>\n",
       "      <td>0.174271</td>\n",
       "    </tr>\n",
       "    <tr>\n",
       "      <th>83</th>\n",
       "      <td>Superhero Movie</td>\n",
       "      <td>0.173035</td>\n",
       "    </tr>\n",
       "    <tr>\n",
       "      <th>551</th>\n",
       "      <td>Drive Angry</td>\n",
       "      <td>0.165189</td>\n",
       "    </tr>\n",
       "    <tr>\n",
       "      <th>735</th>\n",
       "      <td>Tank Girl</td>\n",
       "      <td>0.149170</td>\n",
       "    </tr>\n",
       "    <tr>\n",
       "      <th>170</th>\n",
       "      <td>Peter Pan &amp; Wendy</td>\n",
       "      <td>0.144534</td>\n",
       "    </tr>\n",
       "  </tbody>\n",
       "</table>\n",
       "<p>99 rows × 2 columns</p>\n",
       "</div>"
      ],
      "text/plain": [
       "                            Movie  Combined_Score\n",
       "0    Teenage Mutant Ninja Turtles        0.860465\n",
       "25                         Archer        0.508785\n",
       "57                          Barry        0.462410\n",
       "79                      Cobra Kai        0.452517\n",
       "149                      The Boys        0.448990\n",
       "..                            ...             ...\n",
       "920        Thor: Love and Thunder        0.174271\n",
       "83                Superhero Movie        0.173035\n",
       "551                   Drive Angry        0.165189\n",
       "735                     Tank Girl        0.149170\n",
       "170             Peter Pan & Wendy        0.144534\n",
       "\n",
       "[99 rows x 2 columns]"
      ]
     },
     "metadata": {},
     "output_type": "display_data"
    }
   ],
   "source": [
    "# Merging two DataFrames 'score_df' and 'rating_df' based on the 'Movie' column\n",
    "merged_df = pd.merge(score_df, rating_df, on='Movie')\n",
    "\n",
    "# Normalize the scores to a range between 0 and 1\n",
    "merged_df['Normalized_Score'] = (merged_df['Score'] - merged_df['Score'].min()) / (merged_df['Score'].max() - merged_df['Score'].min())\n",
    "merged_df['Normalized_Rating'] = (merged_df['Rating'] - merged_df['Rating'].min()) / (merged_df['Rating'].max() - merged_df['Rating'].min())\n",
    "\n",
    "# Define weights for the normalized scores\n",
    "weight_score = 0.7\n",
    "weight_rating = 0.3\n",
    "\n",
    "# Calculate the combined score using the weighted sum\n",
    "merged_df['Combined_Score'] = (weight_score * merged_df['Normalized_Score']) + (weight_rating * merged_df['Normalized_Rating'])\n",
    "\n",
    "# Order the DataFrame by the combined score in descending order\n",
    "merged_df = merged_df.sort_values(by='Combined_Score', ascending=False)\n",
    "\n",
    "unique_merged_df = merged_df.drop_duplicates(subset='Movie', keep='first')\n",
    "# Display the recommended movies\n",
    "print(\"\\nRecommended Movies:\")\n",
    "display(unique_merged_df[['Movie', 'Combined_Score']])\n"
   ]
  },
  {
   "cell_type": "code",
   "execution_count": 13,
   "metadata": {},
   "outputs": [
    {
     "data": {
      "image/png": "[encoded data removed]",
      "text/plain": [
       "<Figure size 1000x600 with 1 Axes>"
      ]
     },
     "metadata": {},
     "output_type": "display_data"
    }
   ],
   "source": [
    "# Setting a seaborn style\n",
    "sns.set_style('whitegrid')\n",
    "\n",
    "# Assuming unique_merged_df contains the processed DataFrame\n",
    "# Extracting top movies and combined scores\n",
    "\n",
    "top_movies = unique_merged_df['Movie'].head(10)\n",
    "combined_scores = unique_merged_df['Combined_Score'].head(10)\n",
    "\n",
    "# Creating a color palette\n",
    "colors = sns.color_palette('viridis', len(top_movies))\n",
    "\n",
    "# Creating a bar chart for top movies and their combined scores\n",
    "fig, ax = plt.subplots(figsize=(10, 6))\n",
    "bars = ax.barh(top_movies[::-1], combined_scores[::-1], color=colors)\n",
    "\n",
    "# Adding labels and title\n",
    "ax.set_xlabel('Combined Score', fontsize=12)\n",
    "ax.set_ylabel('Movies', fontsize=12)\n",
    "ax.set_title('Top Movies by Combined Score', fontsize=14)\n",
    "\n",
    "# Adding values on each bar\n",
    "for bar, score in zip(bars, combined_scores[::-1]):\n",
    "    ax.text(bar.get_width(), bar.get_y() + bar.get_height() / 2, f'{score:.2f}',\n",
    "            va='center', ha='left', color='black')\n",
    "\n",
    "# Inverting the y-axis for better readability\n",
    "plt.gca().invert_yaxis()\n",
    "\n",
    "# Adjusting layout of the plot to improve spacing between subplots or elements\n",
    "plt.tight_layout()\n",
    "\n",
    "# Displaying the plot\n",
    "plt.show()"
   ]
  }
 ],
 "metadata": {
  "colab": {
   "provenance": []
  },
  "kernelspec": {
   "display_name": "Python 3 (ipykernel)",
   "language": "python",
   "name": "python3"
  },
  "language_info": {
   "codemirror_mode": {
    "name": "ipython",
    "version": 3
   },
   "file_extension": ".py",
   "mimetype": "text/x-python",
   "name": "python",
   "nbconvert_exporter": "python",
   "pygments_lexer": "ipython3",
   "version": "3.11.4"
  }
 },
 "nbformat": 4,
 "nbformat_minor": 1
}
